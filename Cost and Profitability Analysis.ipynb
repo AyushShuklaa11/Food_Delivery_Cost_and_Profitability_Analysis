{
 "cells": [
  {
   "cell_type": "markdown",
   "id": "479186ea-9bfa-471c-90e2-db22b27bcdd5",
   "metadata": {},
   "source": [
    "# Food Delivery Cost and Profitability Analysis\n"
   ]
  },
  {
   "cell_type": "code",
   "execution_count": 1,
   "id": "3e7d917b-9ddb-4446-965c-41321d6b4e64",
   "metadata": {},
   "outputs": [],
   "source": [
    "import pandas as pd\n",
    "import matplotlib.pyplot as plt\n",
    "import seaborn as sns"
   ]
  },
  {
   "cell_type": "code",
   "execution_count": 2,
   "id": "26af1f2f-e4f4-47dd-bba6-f9ab7b6224f2",
   "metadata": {},
   "outputs": [
    {
     "data": {
      "text/html": [
       "<div>\n",
       "<style scoped>\n",
       "    .dataframe tbody tr th:only-of-type {\n",
       "        vertical-align: middle;\n",
       "    }\n",
       "\n",
       "    .dataframe tbody tr th {\n",
       "        vertical-align: top;\n",
       "    }\n",
       "\n",
       "    .dataframe thead th {\n",
       "        text-align: right;\n",
       "    }\n",
       "</style>\n",
       "<table border=\"1\" class=\"dataframe\">\n",
       "  <thead>\n",
       "    <tr style=\"text-align: right;\">\n",
       "      <th></th>\n",
       "      <th>Order ID</th>\n",
       "      <th>Customer ID</th>\n",
       "      <th>Restaurant ID</th>\n",
       "      <th>Order Date and Time</th>\n",
       "      <th>Delivery Date and Time</th>\n",
       "      <th>Order Value</th>\n",
       "      <th>Delivery Fee</th>\n",
       "      <th>Payment Method</th>\n",
       "      <th>Discounts and Offers</th>\n",
       "      <th>Commission Fee</th>\n",
       "      <th>Payment Processing Fee</th>\n",
       "      <th>Refunds/Chargebacks</th>\n",
       "    </tr>\n",
       "  </thead>\n",
       "  <tbody>\n",
       "    <tr>\n",
       "      <th>0</th>\n",
       "      <td>1</td>\n",
       "      <td>C8270</td>\n",
       "      <td>R2924</td>\n",
       "      <td>01-02-2024 01:11</td>\n",
       "      <td>01-02-2024 02:39</td>\n",
       "      <td>1914</td>\n",
       "      <td>0</td>\n",
       "      <td>Credit Card</td>\n",
       "      <td>5% on App</td>\n",
       "      <td>150</td>\n",
       "      <td>47</td>\n",
       "      <td>0</td>\n",
       "    </tr>\n",
       "    <tr>\n",
       "      <th>1</th>\n",
       "      <td>2</td>\n",
       "      <td>C1860</td>\n",
       "      <td>R2054</td>\n",
       "      <td>02-02-2024 22:11</td>\n",
       "      <td>02-02-2024 22:46</td>\n",
       "      <td>986</td>\n",
       "      <td>40</td>\n",
       "      <td>Digital Wallet</td>\n",
       "      <td>10%</td>\n",
       "      <td>198</td>\n",
       "      <td>23</td>\n",
       "      <td>0</td>\n",
       "    </tr>\n",
       "    <tr>\n",
       "      <th>2</th>\n",
       "      <td>3</td>\n",
       "      <td>C6390</td>\n",
       "      <td>R2870</td>\n",
       "      <td>31-01-2024 05:54</td>\n",
       "      <td>31-01-2024 06:52</td>\n",
       "      <td>937</td>\n",
       "      <td>30</td>\n",
       "      <td>Cash on Delivery</td>\n",
       "      <td>15% New User</td>\n",
       "      <td>195</td>\n",
       "      <td>45</td>\n",
       "      <td>0</td>\n",
       "    </tr>\n",
       "    <tr>\n",
       "      <th>3</th>\n",
       "      <td>4</td>\n",
       "      <td>C6191</td>\n",
       "      <td>R2642</td>\n",
       "      <td>16-01-2024 22:52</td>\n",
       "      <td>16-01-2024 23:38</td>\n",
       "      <td>1463</td>\n",
       "      <td>50</td>\n",
       "      <td>Cash on Delivery</td>\n",
       "      <td>NaN</td>\n",
       "      <td>146</td>\n",
       "      <td>27</td>\n",
       "      <td>0</td>\n",
       "    </tr>\n",
       "    <tr>\n",
       "      <th>4</th>\n",
       "      <td>5</td>\n",
       "      <td>C6734</td>\n",
       "      <td>R2799</td>\n",
       "      <td>29-01-2024 01:19</td>\n",
       "      <td>29-01-2024 02:48</td>\n",
       "      <td>1992</td>\n",
       "      <td>30</td>\n",
       "      <td>Cash on Delivery</td>\n",
       "      <td>50 off Promo</td>\n",
       "      <td>130</td>\n",
       "      <td>50</td>\n",
       "      <td>0</td>\n",
       "    </tr>\n",
       "  </tbody>\n",
       "</table>\n",
       "</div>"
      ],
      "text/plain": [
       "   Order ID Customer ID Restaurant ID Order Date and Time  \\\n",
       "0         1       C8270         R2924    01-02-2024 01:11   \n",
       "1         2       C1860         R2054    02-02-2024 22:11   \n",
       "2         3       C6390         R2870    31-01-2024 05:54   \n",
       "3         4       C6191         R2642    16-01-2024 22:52   \n",
       "4         5       C6734         R2799    29-01-2024 01:19   \n",
       "\n",
       "  Delivery Date and Time  Order Value  Delivery Fee    Payment Method  \\\n",
       "0       01-02-2024 02:39         1914             0       Credit Card   \n",
       "1       02-02-2024 22:46          986            40    Digital Wallet   \n",
       "2       31-01-2024 06:52          937            30  Cash on Delivery   \n",
       "3       16-01-2024 23:38         1463            50  Cash on Delivery   \n",
       "4       29-01-2024 02:48         1992            30  Cash on Delivery   \n",
       "\n",
       "  Discounts and Offers  Commission Fee  Payment Processing Fee  \\\n",
       "0            5% on App             150                      47   \n",
       "1                  10%             198                      23   \n",
       "2         15% New User             195                      45   \n",
       "3                  NaN             146                      27   \n",
       "4         50 off Promo             130                      50   \n",
       "\n",
       "   Refunds/Chargebacks  \n",
       "0                    0  \n",
       "1                    0  \n",
       "2                    0  \n",
       "3                    0  \n",
       "4                    0  "
      ]
     },
     "execution_count": 2,
     "metadata": {},
     "output_type": "execute_result"
    }
   ],
   "source": [
    "food_orders = pd.read_csv(\"food_orders_new_delhi.csv\")\n",
    "food_orders.head()"
   ]
  },
  {
   "cell_type": "code",
   "execution_count": 3,
   "id": "094456d8-c1b1-468b-8c8a-6f7d31b1944a",
   "metadata": {},
   "outputs": [
    {
     "name": "stdout",
     "output_type": "stream",
     "text": [
      "<class 'pandas.core.frame.DataFrame'>\n",
      "RangeIndex: 1000 entries, 0 to 999\n",
      "Data columns (total 12 columns):\n",
      " #   Column                  Non-Null Count  Dtype \n",
      "---  ------                  --------------  ----- \n",
      " 0   Order ID                1000 non-null   int64 \n",
      " 1   Customer ID             1000 non-null   object\n",
      " 2   Restaurant ID           1000 non-null   object\n",
      " 3   Order Date and Time     1000 non-null   object\n",
      " 4   Delivery Date and Time  1000 non-null   object\n",
      " 5   Order Value             1000 non-null   int64 \n",
      " 6   Delivery Fee            1000 non-null   int64 \n",
      " 7   Payment Method          1000 non-null   object\n",
      " 8   Discounts and Offers    815 non-null    object\n",
      " 9   Commission Fee          1000 non-null   int64 \n",
      " 10  Payment Processing Fee  1000 non-null   int64 \n",
      " 11  Refunds/Chargebacks     1000 non-null   int64 \n",
      "dtypes: int64(6), object(6)\n",
      "memory usage: 93.9+ KB\n"
     ]
    }
   ],
   "source": [
    "food_orders.info()"
   ]
  },
  {
   "cell_type": "markdown",
   "id": "65c7628b-a59b-4863-935c-f40870d73ff7",
   "metadata": {},
   "source": [
    "##### The dataset contains 1000 rows and 12 columns with column \"Discount and Offers\" having some Null values which simply indicates that there were some orders where no discounts and offers were applied."
   ]
  },
  {
   "cell_type": "markdown",
   "id": "38f02cc9-ed78-4b3d-8bc1-5d6653ba2858",
   "metadata": {},
   "source": [
    "## Data Cleaning and Preparation"
   ]
  },
  {
   "cell_type": "markdown",
   "id": "ec807ec3-0422-422a-8231-a1251d0349e8",
   "metadata": {},
   "source": [
    "#### Replacing Null Values with \"Zero\""
   ]
  },
  {
   "cell_type": "code",
   "execution_count": 4,
   "id": "ee21ae19-319d-4d9c-b15f-4e27c78b0716",
   "metadata": {},
   "outputs": [
    {
     "data": {
      "text/html": [
       "<div>\n",
       "<style scoped>\n",
       "    .dataframe tbody tr th:only-of-type {\n",
       "        vertical-align: middle;\n",
       "    }\n",
       "\n",
       "    .dataframe tbody tr th {\n",
       "        vertical-align: top;\n",
       "    }\n",
       "\n",
       "    .dataframe thead th {\n",
       "        text-align: right;\n",
       "    }\n",
       "</style>\n",
       "<table border=\"1\" class=\"dataframe\">\n",
       "  <thead>\n",
       "    <tr style=\"text-align: right;\">\n",
       "      <th></th>\n",
       "      <th>Order ID</th>\n",
       "      <th>Customer ID</th>\n",
       "      <th>Restaurant ID</th>\n",
       "      <th>Order Date and Time</th>\n",
       "      <th>Delivery Date and Time</th>\n",
       "      <th>Order Value</th>\n",
       "      <th>Delivery Fee</th>\n",
       "      <th>Payment Method</th>\n",
       "      <th>Discounts and Offers</th>\n",
       "      <th>Commission Fee</th>\n",
       "      <th>Payment Processing Fee</th>\n",
       "      <th>Refunds/Chargebacks</th>\n",
       "    </tr>\n",
       "  </thead>\n",
       "  <tbody>\n",
       "    <tr>\n",
       "      <th>0</th>\n",
       "      <td>1</td>\n",
       "      <td>C8270</td>\n",
       "      <td>R2924</td>\n",
       "      <td>01-02-2024 01:11</td>\n",
       "      <td>01-02-2024 02:39</td>\n",
       "      <td>1914</td>\n",
       "      <td>0</td>\n",
       "      <td>Credit Card</td>\n",
       "      <td>5% on App</td>\n",
       "      <td>150</td>\n",
       "      <td>47</td>\n",
       "      <td>0</td>\n",
       "    </tr>\n",
       "    <tr>\n",
       "      <th>1</th>\n",
       "      <td>2</td>\n",
       "      <td>C1860</td>\n",
       "      <td>R2054</td>\n",
       "      <td>02-02-2024 22:11</td>\n",
       "      <td>02-02-2024 22:46</td>\n",
       "      <td>986</td>\n",
       "      <td>40</td>\n",
       "      <td>Digital Wallet</td>\n",
       "      <td>10%</td>\n",
       "      <td>198</td>\n",
       "      <td>23</td>\n",
       "      <td>0</td>\n",
       "    </tr>\n",
       "    <tr>\n",
       "      <th>2</th>\n",
       "      <td>3</td>\n",
       "      <td>C6390</td>\n",
       "      <td>R2870</td>\n",
       "      <td>31-01-2024 05:54</td>\n",
       "      <td>31-01-2024 06:52</td>\n",
       "      <td>937</td>\n",
       "      <td>30</td>\n",
       "      <td>Cash on Delivery</td>\n",
       "      <td>15% New User</td>\n",
       "      <td>195</td>\n",
       "      <td>45</td>\n",
       "      <td>0</td>\n",
       "    </tr>\n",
       "    <tr>\n",
       "      <th>3</th>\n",
       "      <td>4</td>\n",
       "      <td>C6191</td>\n",
       "      <td>R2642</td>\n",
       "      <td>16-01-2024 22:52</td>\n",
       "      <td>16-01-2024 23:38</td>\n",
       "      <td>1463</td>\n",
       "      <td>50</td>\n",
       "      <td>Cash on Delivery</td>\n",
       "      <td>Zero</td>\n",
       "      <td>146</td>\n",
       "      <td>27</td>\n",
       "      <td>0</td>\n",
       "    </tr>\n",
       "    <tr>\n",
       "      <th>4</th>\n",
       "      <td>5</td>\n",
       "      <td>C6734</td>\n",
       "      <td>R2799</td>\n",
       "      <td>29-01-2024 01:19</td>\n",
       "      <td>29-01-2024 02:48</td>\n",
       "      <td>1992</td>\n",
       "      <td>30</td>\n",
       "      <td>Cash on Delivery</td>\n",
       "      <td>50 off Promo</td>\n",
       "      <td>130</td>\n",
       "      <td>50</td>\n",
       "      <td>0</td>\n",
       "    </tr>\n",
       "  </tbody>\n",
       "</table>\n",
       "</div>"
      ],
      "text/plain": [
       "   Order ID Customer ID Restaurant ID Order Date and Time  \\\n",
       "0         1       C8270         R2924    01-02-2024 01:11   \n",
       "1         2       C1860         R2054    02-02-2024 22:11   \n",
       "2         3       C6390         R2870    31-01-2024 05:54   \n",
       "3         4       C6191         R2642    16-01-2024 22:52   \n",
       "4         5       C6734         R2799    29-01-2024 01:19   \n",
       "\n",
       "  Delivery Date and Time  Order Value  Delivery Fee    Payment Method  \\\n",
       "0       01-02-2024 02:39         1914             0       Credit Card   \n",
       "1       02-02-2024 22:46          986            40    Digital Wallet   \n",
       "2       31-01-2024 06:52          937            30  Cash on Delivery   \n",
       "3       16-01-2024 23:38         1463            50  Cash on Delivery   \n",
       "4       29-01-2024 02:48         1992            30  Cash on Delivery   \n",
       "\n",
       "  Discounts and Offers  Commission Fee  Payment Processing Fee  \\\n",
       "0            5% on App             150                      47   \n",
       "1                  10%             198                      23   \n",
       "2         15% New User             195                      45   \n",
       "3                 Zero             146                      27   \n",
       "4         50 off Promo             130                      50   \n",
       "\n",
       "   Refunds/Chargebacks  \n",
       "0                    0  \n",
       "1                    0  \n",
       "2                    0  \n",
       "3                    0  \n",
       "4                    0  "
      ]
     },
     "execution_count": 4,
     "metadata": {},
     "output_type": "execute_result"
    }
   ],
   "source": [
    "food_orders[\"Discounts and Offers\"].fillna(\"Zero\", inplace = True)\n",
    "food_orders.head()"
   ]
  },
  {
   "cell_type": "markdown",
   "id": "339fe03f-c5c5-4c98-a592-5183c22c00b6",
   "metadata": {},
   "source": [
    "#### Convert “Discounts and Offers” to a consistent numeric value (if applicable)."
   ]
  },
  {
   "cell_type": "code",
   "execution_count": 5,
   "id": "535796f8-f92e-42ee-a3df-64237aae5f2d",
   "metadata": {},
   "outputs": [
    {
     "data": {
      "text/html": [
       "<div>\n",
       "<style scoped>\n",
       "    .dataframe tbody tr th:only-of-type {\n",
       "        vertical-align: middle;\n",
       "    }\n",
       "\n",
       "    .dataframe tbody tr th {\n",
       "        vertical-align: top;\n",
       "    }\n",
       "\n",
       "    .dataframe thead th {\n",
       "        text-align: right;\n",
       "    }\n",
       "</style>\n",
       "<table border=\"1\" class=\"dataframe\">\n",
       "  <thead>\n",
       "    <tr style=\"text-align: right;\">\n",
       "      <th></th>\n",
       "      <th>Order ID</th>\n",
       "      <th>Customer ID</th>\n",
       "      <th>Restaurant ID</th>\n",
       "      <th>Order Date and Time</th>\n",
       "      <th>Delivery Date and Time</th>\n",
       "      <th>Order Value</th>\n",
       "      <th>Delivery Fee</th>\n",
       "      <th>Payment Method</th>\n",
       "      <th>Discounts and Offers</th>\n",
       "      <th>Commission Fee</th>\n",
       "      <th>Payment Processing Fee</th>\n",
       "      <th>Refunds/Chargebacks</th>\n",
       "      <th>Discount Value</th>\n",
       "    </tr>\n",
       "  </thead>\n",
       "  <tbody>\n",
       "    <tr>\n",
       "      <th>0</th>\n",
       "      <td>1</td>\n",
       "      <td>C8270</td>\n",
       "      <td>R2924</td>\n",
       "      <td>01-02-2024 01:11</td>\n",
       "      <td>01-02-2024 02:39</td>\n",
       "      <td>1914</td>\n",
       "      <td>0</td>\n",
       "      <td>Credit Card</td>\n",
       "      <td>5% on App</td>\n",
       "      <td>150</td>\n",
       "      <td>47</td>\n",
       "      <td>0</td>\n",
       "      <td>0.05</td>\n",
       "    </tr>\n",
       "    <tr>\n",
       "      <th>1</th>\n",
       "      <td>2</td>\n",
       "      <td>C1860</td>\n",
       "      <td>R2054</td>\n",
       "      <td>02-02-2024 22:11</td>\n",
       "      <td>02-02-2024 22:46</td>\n",
       "      <td>986</td>\n",
       "      <td>40</td>\n",
       "      <td>Digital Wallet</td>\n",
       "      <td>10%</td>\n",
       "      <td>198</td>\n",
       "      <td>23</td>\n",
       "      <td>0</td>\n",
       "      <td>0.10</td>\n",
       "    </tr>\n",
       "    <tr>\n",
       "      <th>2</th>\n",
       "      <td>3</td>\n",
       "      <td>C6390</td>\n",
       "      <td>R2870</td>\n",
       "      <td>31-01-2024 05:54</td>\n",
       "      <td>31-01-2024 06:52</td>\n",
       "      <td>937</td>\n",
       "      <td>30</td>\n",
       "      <td>Cash on Delivery</td>\n",
       "      <td>15% New User</td>\n",
       "      <td>195</td>\n",
       "      <td>45</td>\n",
       "      <td>0</td>\n",
       "      <td>0.15</td>\n",
       "    </tr>\n",
       "    <tr>\n",
       "      <th>3</th>\n",
       "      <td>4</td>\n",
       "      <td>C6191</td>\n",
       "      <td>R2642</td>\n",
       "      <td>16-01-2024 22:52</td>\n",
       "      <td>16-01-2024 23:38</td>\n",
       "      <td>1463</td>\n",
       "      <td>50</td>\n",
       "      <td>Cash on Delivery</td>\n",
       "      <td>Zero</td>\n",
       "      <td>146</td>\n",
       "      <td>27</td>\n",
       "      <td>0</td>\n",
       "      <td>0.00</td>\n",
       "    </tr>\n",
       "    <tr>\n",
       "      <th>4</th>\n",
       "      <td>5</td>\n",
       "      <td>C6734</td>\n",
       "      <td>R2799</td>\n",
       "      <td>29-01-2024 01:19</td>\n",
       "      <td>29-01-2024 02:48</td>\n",
       "      <td>1992</td>\n",
       "      <td>30</td>\n",
       "      <td>Cash on Delivery</td>\n",
       "      <td>50 off Promo</td>\n",
       "      <td>130</td>\n",
       "      <td>50</td>\n",
       "      <td>0</td>\n",
       "      <td>50.00</td>\n",
       "    </tr>\n",
       "  </tbody>\n",
       "</table>\n",
       "</div>"
      ],
      "text/plain": [
       "   Order ID Customer ID Restaurant ID Order Date and Time  \\\n",
       "0         1       C8270         R2924    01-02-2024 01:11   \n",
       "1         2       C1860         R2054    02-02-2024 22:11   \n",
       "2         3       C6390         R2870    31-01-2024 05:54   \n",
       "3         4       C6191         R2642    16-01-2024 22:52   \n",
       "4         5       C6734         R2799    29-01-2024 01:19   \n",
       "\n",
       "  Delivery Date and Time  Order Value  Delivery Fee    Payment Method  \\\n",
       "0       01-02-2024 02:39         1914             0       Credit Card   \n",
       "1       02-02-2024 22:46          986            40    Digital Wallet   \n",
       "2       31-01-2024 06:52          937            30  Cash on Delivery   \n",
       "3       16-01-2024 23:38         1463            50  Cash on Delivery   \n",
       "4       29-01-2024 02:48         1992            30  Cash on Delivery   \n",
       "\n",
       "  Discounts and Offers  Commission Fee  Payment Processing Fee  \\\n",
       "0            5% on App             150                      47   \n",
       "1                  10%             198                      23   \n",
       "2         15% New User             195                      45   \n",
       "3                 Zero             146                      27   \n",
       "4         50 off Promo             130                      50   \n",
       "\n",
       "   Refunds/Chargebacks  Discount Value  \n",
       "0                    0            0.05  \n",
       "1                    0            0.10  \n",
       "2                    0            0.15  \n",
       "3                    0            0.00  \n",
       "4                    0           50.00  "
      ]
     },
     "execution_count": 5,
     "metadata": {},
     "output_type": "execute_result"
    }
   ],
   "source": [
    "# creating a function to extract numeric values from the 'Discounts and Offers' string\n",
    "def extract_discount(discount_str):\n",
    "    if \"off\" in discount_str:\n",
    "        # Fixed amount off\n",
    "        return float(discount_str.split(' ')[0])\n",
    "    elif \"%\" in discount_str:\n",
    "        # Percentage off\n",
    "        return float(discount_str.split('%')[0])/100\n",
    "    else:\n",
    "        # No discount\n",
    "        return 0.0\n",
    "\n",
    "# apply the function to create a new 'Discount Value' column\n",
    "food_orders[\"Discount Value\"] = food_orders[\"Discounts and Offers\"].apply(lambda x: extract_discount(x))\n",
    "food_orders.head()\n"
   ]
  },
  {
   "cell_type": "code",
   "execution_count": 6,
   "id": "002ce28c-32ff-409a-808d-7fbba2187260",
   "metadata": {},
   "outputs": [
    {
     "data": {
      "text/html": [
       "<div>\n",
       "<style scoped>\n",
       "    .dataframe tbody tr th:only-of-type {\n",
       "        vertical-align: middle;\n",
       "    }\n",
       "\n",
       "    .dataframe tbody tr th {\n",
       "        vertical-align: top;\n",
       "    }\n",
       "\n",
       "    .dataframe thead th {\n",
       "        text-align: right;\n",
       "    }\n",
       "</style>\n",
       "<table border=\"1\" class=\"dataframe\">\n",
       "  <thead>\n",
       "    <tr style=\"text-align: right;\">\n",
       "      <th></th>\n",
       "      <th>Order ID</th>\n",
       "      <th>Customer ID</th>\n",
       "      <th>Restaurant ID</th>\n",
       "      <th>Order Date and Time</th>\n",
       "      <th>Delivery Date and Time</th>\n",
       "      <th>Order Value</th>\n",
       "      <th>Delivery Fee</th>\n",
       "      <th>Payment Method</th>\n",
       "      <th>Discounts and Offers</th>\n",
       "      <th>Commission Fee</th>\n",
       "      <th>Payment Processing Fee</th>\n",
       "      <th>Refunds/Chargebacks</th>\n",
       "      <th>Discount Value</th>\n",
       "      <th>Discount Amount</th>\n",
       "    </tr>\n",
       "  </thead>\n",
       "  <tbody>\n",
       "    <tr>\n",
       "      <th>0</th>\n",
       "      <td>1</td>\n",
       "      <td>C8270</td>\n",
       "      <td>R2924</td>\n",
       "      <td>01-02-2024 01:11</td>\n",
       "      <td>01-02-2024 02:39</td>\n",
       "      <td>1914</td>\n",
       "      <td>0</td>\n",
       "      <td>Credit Card</td>\n",
       "      <td>5% on App</td>\n",
       "      <td>150</td>\n",
       "      <td>47</td>\n",
       "      <td>0</td>\n",
       "      <td>0.05</td>\n",
       "      <td>95.70</td>\n",
       "    </tr>\n",
       "    <tr>\n",
       "      <th>1</th>\n",
       "      <td>2</td>\n",
       "      <td>C1860</td>\n",
       "      <td>R2054</td>\n",
       "      <td>02-02-2024 22:11</td>\n",
       "      <td>02-02-2024 22:46</td>\n",
       "      <td>986</td>\n",
       "      <td>40</td>\n",
       "      <td>Digital Wallet</td>\n",
       "      <td>10%</td>\n",
       "      <td>198</td>\n",
       "      <td>23</td>\n",
       "      <td>0</td>\n",
       "      <td>0.10</td>\n",
       "      <td>98.60</td>\n",
       "    </tr>\n",
       "    <tr>\n",
       "      <th>2</th>\n",
       "      <td>3</td>\n",
       "      <td>C6390</td>\n",
       "      <td>R2870</td>\n",
       "      <td>31-01-2024 05:54</td>\n",
       "      <td>31-01-2024 06:52</td>\n",
       "      <td>937</td>\n",
       "      <td>30</td>\n",
       "      <td>Cash on Delivery</td>\n",
       "      <td>15% New User</td>\n",
       "      <td>195</td>\n",
       "      <td>45</td>\n",
       "      <td>0</td>\n",
       "      <td>0.15</td>\n",
       "      <td>140.55</td>\n",
       "    </tr>\n",
       "    <tr>\n",
       "      <th>3</th>\n",
       "      <td>4</td>\n",
       "      <td>C6191</td>\n",
       "      <td>R2642</td>\n",
       "      <td>16-01-2024 22:52</td>\n",
       "      <td>16-01-2024 23:38</td>\n",
       "      <td>1463</td>\n",
       "      <td>50</td>\n",
       "      <td>Cash on Delivery</td>\n",
       "      <td>Zero</td>\n",
       "      <td>146</td>\n",
       "      <td>27</td>\n",
       "      <td>0</td>\n",
       "      <td>0.00</td>\n",
       "      <td>0.00</td>\n",
       "    </tr>\n",
       "    <tr>\n",
       "      <th>4</th>\n",
       "      <td>5</td>\n",
       "      <td>C6734</td>\n",
       "      <td>R2799</td>\n",
       "      <td>29-01-2024 01:19</td>\n",
       "      <td>29-01-2024 02:48</td>\n",
       "      <td>1992</td>\n",
       "      <td>30</td>\n",
       "      <td>Cash on Delivery</td>\n",
       "      <td>50 off Promo</td>\n",
       "      <td>130</td>\n",
       "      <td>50</td>\n",
       "      <td>0</td>\n",
       "      <td>50.00</td>\n",
       "      <td>50.00</td>\n",
       "    </tr>\n",
       "  </tbody>\n",
       "</table>\n",
       "</div>"
      ],
      "text/plain": [
       "   Order ID Customer ID Restaurant ID Order Date and Time  \\\n",
       "0         1       C8270         R2924    01-02-2024 01:11   \n",
       "1         2       C1860         R2054    02-02-2024 22:11   \n",
       "2         3       C6390         R2870    31-01-2024 05:54   \n",
       "3         4       C6191         R2642    16-01-2024 22:52   \n",
       "4         5       C6734         R2799    29-01-2024 01:19   \n",
       "\n",
       "  Delivery Date and Time  Order Value  Delivery Fee    Payment Method  \\\n",
       "0       01-02-2024 02:39         1914             0       Credit Card   \n",
       "1       02-02-2024 22:46          986            40    Digital Wallet   \n",
       "2       31-01-2024 06:52          937            30  Cash on Delivery   \n",
       "3       16-01-2024 23:38         1463            50  Cash on Delivery   \n",
       "4       29-01-2024 02:48         1992            30  Cash on Delivery   \n",
       "\n",
       "  Discounts and Offers  Commission Fee  Payment Processing Fee  \\\n",
       "0            5% on App             150                      47   \n",
       "1                  10%             198                      23   \n",
       "2         15% New User             195                      45   \n",
       "3                 Zero             146                      27   \n",
       "4         50 off Promo             130                      50   \n",
       "\n",
       "   Refunds/Chargebacks  Discount Value  Discount Amount  \n",
       "0                    0            0.05            95.70  \n",
       "1                    0            0.10            98.60  \n",
       "2                    0            0.15           140.55  \n",
       "3                    0            0.00             0.00  \n",
       "4                    0           50.00            50.00  "
      ]
     },
     "execution_count": 6,
     "metadata": {},
     "output_type": "execute_result"
    }
   ],
   "source": [
    "# Calculate the discount amount based on the order value and discount value\n",
    "food_orders[\"Discount Amount\"] = food_orders.apply(lambda x: (x[\"Order Value\"] * x[\"Discount Value\"] )\n",
    "                                                   if x[\"Discount Value\"] < 1\n",
    "                                                   else x[\"Discount Value\"], axis=1)\n",
    "food_orders.head()"
   ]
  },
  {
   "cell_type": "code",
   "execution_count": 7,
   "id": "5de022f0-6d17-4bf0-aaec-6ea57880b2fe",
   "metadata": {},
   "outputs": [
    {
     "name": "stdout",
     "output_type": "stream",
     "text": [
      "Order ID                    int64\n",
      "Customer ID                object\n",
      "Restaurant ID              object\n",
      "Order Date and Time        object\n",
      "Delivery Date and Time     object\n",
      "Order Value                 int64\n",
      "Delivery Fee                int64\n",
      "Payment Method             object\n",
      "Discounts and Offers       object\n",
      "Commission Fee              int64\n",
      "Payment Processing Fee      int64\n",
      "Refunds/Chargebacks         int64\n",
      "Discount Value            float64\n",
      "Discount Amount           float64\n",
      "dtype: object\n"
     ]
    }
   ],
   "source": [
    "print(food_orders.dtypes)"
   ]
  },
  {
   "cell_type": "markdown",
   "id": "9e303f27-ea3f-458b-a48f-4758b491c65d",
   "metadata": {},
   "source": [
    "##### The data is now ready with the following adjustments:\n",
    "\n",
    "##### A new column, Discount Amount, has been calculated based on the Discounts and Offers column. This was achieved by extracting percentage discounts or fixed amounts and applying them to the order value.\n",
    "##### Discount Value has been added to represent the discount rate or fixed amount discount directly."
   ]
  },
  {
   "cell_type": "markdown",
   "id": "6931ebf4-be76-464c-b608-72b7e6059e7c",
   "metadata": {},
   "source": [
    "## Cost and Profitability Analysis "
   ]
  },
  {
   "cell_type": "markdown",
   "id": "70abe6d2-0e96-495e-8252-5e1067c90930",
   "metadata": {},
   "source": [
    "##### For cost analysis, we'll consider the following cost associated with each order.\n",
    "\n",
    "Delivery Fee: The fee charged for delivering the order.\n",
    "\r\n",
    "Payment Processing Fee: The fee for processing the payment\n",
    "\r\n",
    "Discount Amount: The discount provided on the order.\n"
   ]
  },
  {
   "cell_type": "markdown",
   "id": "e72d52fc-86cc-440a-a33d-c60c096ff0b1",
   "metadata": {},
   "source": [
    "##### We'll calculate the total costs by aggregating all theese costs associated with each order on the platform.\n",
    "##### The revenue for the platform is mainly derived from the Commission Fee. We’ll calculate the net profit by subtracting the total costs (including discounts) from the revenue generated through commission fees."
   ]
  },
  {
   "cell_type": "code",
   "execution_count": 8,
   "id": "2010ff3d-5ecc-42e3-a111-df9124cc55bc",
   "metadata": {},
   "outputs": [
    {
     "name": "stdout",
     "output_type": "stream",
     "text": [
      "{'Total Orders': 1000, 'Total Revenue': 126990, 'Total Costs': 132741.85, 'Total Profit': -5751.85}\n"
     ]
    }
   ],
   "source": [
    "# calculate total costs and revenue per order\n",
    "food_orders[\"Total Costs\"] = food_orders[\"Delivery Fee\"] + food_orders[\"Payment Processing Fee\"] + food_orders[\"Discount Amount\"]\n",
    "food_orders[\"Revenue\"] = food_orders[\"Commission Fee\"]\n",
    "food_orders[\"Profit\"] = food_orders[\"Revenue\"] - food_orders[\"Total Costs\"]\n",
    "\n",
    "# aggregate data to get overall metrics\n",
    "total_orders = food_orders.shape[0]\n",
    "total_revenue = food_orders[\"Revenue\"].sum()\n",
    "total_costs = food_orders[\"Total Costs\"].sum()\n",
    "total_profit = food_orders[\"Profit\"].sum()\n",
    "\n",
    "overall_metrics = {\n",
    "    \"Total Orders\": total_orders,\n",
    "    \"Total Revenue\": total_revenue,\n",
    "    \"Total Costs\": total_costs,\n",
    "    \"Total Profit\": total_profit\n",
    "}\n",
    "\n",
    "print(overall_metrics)"
   ]
  },
  {
   "cell_type": "markdown",
   "id": "89b2a0c4-eae5-4d48-b154-aa921a874d80",
   "metadata": {},
   "source": [
    "##### The analysis indicates that the total costs associated with the food delivery operations exceed the total revenue generated from commission fees, resulting in a net loss. It suggests that the current commission rates, delivery fees, and discount strategies might not be sustainable for profitability."
   ]
  },
  {
   "cell_type": "markdown",
   "id": "a269cebd-1589-4cb1-b095-64c2ab5e669d",
   "metadata": {},
   "source": [
    "##### Let's plot some more graphs for our better understanding of distribution of costs, revenue, and profits."
   ]
  },
  {
   "cell_type": "markdown",
   "id": "3232b6e6-d680-4217-8e25-9bf77b1d7bbb",
   "metadata": {},
   "source": [
    "## Profits per Order"
   ]
  },
  {
   "cell_type": "markdown",
   "id": "fe735d16-1c26-475f-81ae-c667b59573bd",
   "metadata": {},
   "source": [
    "##### A histogram to visualize the distribution of profitable orders."
   ]
  },
  {
   "cell_type": "code",
   "execution_count": 9,
   "id": "41611a80-a7b2-43ee-833a-e27171cafa12",
   "metadata": {},
   "outputs": [
    {
     "data": {
      "image/png": "[encoded data removed]",
      "text/plain": [
       "<Figure size 1000x600 with 1 Axes>"
      ]
     },
     "metadata": {},
     "output_type": "display_data"
    }
   ],
   "source": [
    "plt.figure(figsize=(10, 6))\n",
    "plt.hist(food_orders[\"Profit\"], bins=50, color=\"skyblue\", edgecolor=\"black\")\n",
    "plt.title(\"Profit Distribution per Order\")\n",
    "plt.xlabel(\"Profit\")\n",
    "plt.ylabel(\"Number of Orders\")\n",
    "plt.axvline(food_orders[\"Profit\"].mean(), color='red', linestyle='dashed', linewidth=1)\n",
    "plt.show()"
   ]
  },
  {
   "cell_type": "markdown",
   "id": "26be91a6-7e4c-4065-a98b-87ffceb3bb5a",
   "metadata": {},
   "source": [
    "##### This shows a wide distribution of profit distribution per order, and a large number of orders resulting in loss. The line represents the average profit, which is also in the negative, highlighting the overall loss making situation."
   ]
  },
  {
   "cell_type": "markdown",
   "id": "fdf83ce7-ba0f-44f5-8176-be874d223077",
   "metadata": {},
   "source": [
    "## Total Costs by Type of Costs"
   ]
  },
  {
   "cell_type": "markdown",
   "id": "8760fee1-dace-42d1-bb57-43d8a6a17bc4",
   "metadata": {},
   "source": [
    "##### A pie chart to visualize the proportion of total costs (delivery fees, payment processing fees, and discounts)."
   ]
  },
  {
   "cell_type": "code",
   "execution_count": 10,
   "id": "92b2a811-2fc3-4c1a-b2d7-99be7ca7afac",
   "metadata": {},
   "outputs": [
    {
     "data": {
      "image/png": "[encoded data removed]",
      "text/plain": [
       "<Figure size 600x600 with 1 Axes>"
      ]
     },
     "metadata": {},
     "output_type": "display_data"
    }
   ],
   "source": [
    "costs_proportion = food_orders[[\"Delivery Fee\", \"Payment Processing Fee\", \"Discount Amount\"]].sum()\n",
    "plt.figure(figsize=(6, 6))\n",
    "plt.pie(costs_proportion, labels=costs_proportion.index, autopct=\"%1.1f%%\", startangle=140, colors=[\"tomato\", \"gold\", \"lightblue\"])\n",
    "plt.title(\"Total Costs by Proportion\")\n",
    "plt.show()"
   ]
  },
  {
   "cell_type": "markdown",
   "id": "b8f828a5-9033-4829-9b46-644600245640",
   "metadata": {},
   "source": [
    "##### The pie chart is showcasing the breakdown of Total Costs. It clearly tells us that Discount Amount constitutes a very significant portion of the costs, suggesting that promotional strategies might be heavily impacting overall profitability."
   ]
  },
  {
   "cell_type": "markdown",
   "id": "f8bb3152-59ed-4819-81d8-4b42c12a8822",
   "metadata": {},
   "source": [
    "## Total Revenue, Costs, and Profit(Loss)"
   ]
  },
  {
   "cell_type": "markdown",
   "id": "7d5a9536-2aa3-4f86-a055-bde4108738e3",
   "metadata": {},
   "source": [
    "##### A bar chart to compare total revenue, total costs, and total profit"
   ]
  },
  {
   "cell_type": "code",
   "execution_count": 11,
   "id": "66e90f56-c03f-470d-ba09-21bd9b109178",
   "metadata": {},
   "outputs": [
    {
     "data": {
      "image/png": "[encoded data removed]",
      "text/plain": [
       "<Figure size 800x600 with 1 Axes>"
      ]
     },
     "metadata": {},
     "output_type": "display_data"
    }
   ],
   "source": [
    "totals = [\"Total Revenue\", \"Total Costs\", \"Total Profit\"]\n",
    "values = [total_revenue, total_costs, total_profit]\n",
    "\n",
    "plt.figure(figsize=(8, 6))\n",
    "plt.bar(totals, values, color=['green', 'red', 'blue'])\n",
    "plt.title(\"Total Revenue, Costs, and Profit\")\n",
    "plt.ylabel(\"Amount (INR)\")\n",
    "plt.show()"
   ]
  },
  {
   "cell_type": "markdown",
   "id": "321f6442-2400-4ba7-9736-4bf93a9930d2",
   "metadata": {},
   "source": [
    "##### It visually represents the gap between revenue and costs, clearly showing that the costs surpass the revenue, leading to a total loss."
   ]
  },
  {
   "cell_type": "markdown",
   "id": "aa915c2e-4031-4318-be01-e0857fd49aa1",
   "metadata": {},
   "source": [
    "## New Strategy For Profits"
   ]
  },
  {
   "cell_type": "markdown",
   "id": "ed60594d-82ab-452a-94d3-a6609024d042",
   "metadata": {},
   "source": [
    "##### We have analysed that high Discount Amounts on food orders are rsulting in overall losses. So, we need to find a new strategy for profitability, and we also need to find new optimized Discount Amounts and Comission fees."
   ]
  },
  {
   "cell_type": "markdown",
   "id": "bb5fb514-cea7-4dd7-9a9a-74e41bab4670",
   "metadata": {},
   "source": [
    "##### We can analyse the profitable orders to find out new optimized Discount Amounts and Comission Fees. Specifically, we could look for:\n",
    "##### 1.A new average commission percentage based on profitable orders.\n",
    "##### 2.A new average discount percentage for profitable orders, that could serve as a guideline for what level of discount still allows for profitability."
   ]
  },
  {
   "cell_type": "markdown",
   "id": "1a83c78b-d2d8-4fd2-943c-281477496258",
   "metadata": {},
   "source": [
    "### New Average Comission and Discount Percentage "
   ]
  },
  {
   "cell_type": "code",
   "execution_count": 12,
   "id": "c10defeb-7d0b-42e8-ac88-9d0a336cbf67",
   "metadata": {},
   "outputs": [
    {
     "name": "stdout",
     "output_type": "stream",
     "text": [
      "27.706528082159736 5.623712042253798\n"
     ]
    },
    {
     "name": "stderr",
     "output_type": "stream",
     "text": [
      "C:\\Users\\Ayush\\AppData\\Local\\Temp\\ipykernel_9020\\3787926927.py:5: SettingWithCopyWarning: \n",
      "A value is trying to be set on a copy of a slice from a DataFrame.\n",
      "Try using .loc[row_indexer,col_indexer] = value instead\n",
      "\n",
      "See the caveats in the documentation: https://pandas.pydata.org/pandas-docs/stable/user_guide/indexing.html#returning-a-view-versus-a-copy\n",
      "  profitable_orders[\"Commission Percentage\"] = (profitable_orders[\"Commission Fee\"] / profitable_orders[\"Order Value\"]) * 100\n",
      "C:\\Users\\Ayush\\AppData\\Local\\Temp\\ipykernel_9020\\3787926927.py:8: SettingWithCopyWarning: \n",
      "A value is trying to be set on a copy of a slice from a DataFrame.\n",
      "Try using .loc[row_indexer,col_indexer] = value instead\n",
      "\n",
      "See the caveats in the documentation: https://pandas.pydata.org/pandas-docs/stable/user_guide/indexing.html#returning-a-view-versus-a-copy\n",
      "  profitable_orders[\"Effective Discount Percentage\"] = (profitable_orders[\"Discount Amount\"] / profitable_orders[\"Order Value\"]) * 100\n"
     ]
    }
   ],
   "source": [
    "# filter the dataset for profitable orders\n",
    "profitable_orders = food_orders[food_orders[\"Profit\"] > 0]\n",
    "\n",
    "# calculate the average commission percentage for profitable orders\n",
    "profitable_orders[\"Commission Percentage\"] = (profitable_orders[\"Commission Fee\"] / profitable_orders[\"Order Value\"]) * 100\n",
    "\n",
    "# calculate the average discount percentage for profitable orders\n",
    "profitable_orders[\"Effective Discount Percentage\"] = (profitable_orders[\"Discount Amount\"] / profitable_orders[\"Order Value\"]) * 100\n",
    "\n",
    "# calculate the new averages\n",
    "new_avg_commission_percentage = profitable_orders[\"Commission Percentage\"].mean()\n",
    "new_avg_discount_percentage = profitable_orders[\"Effective Discount Percentage\"].mean()\n",
    "\n",
    "print(new_avg_commission_percentage, new_avg_discount_percentage)"
   ]
  },
  {
   "cell_type": "markdown",
   "id": "ffb7f68e-934e-45ef-93ae-fc3629ea58cd",
   "metadata": {},
   "source": [
    "##### Based on our analysis of profitable orders, we have found new Average Commission and Average Discount Percentage\n",
    "##### New Average Commission Percentage: 27.70%\n",
    "##### New Average Discount Percentage: 5.62%"
   ]
  },
  {
   "cell_type": "markdown",
   "id": "a5dada32-85b9-4566-831e-55030a13f00c",
   "metadata": {},
   "source": [
    "##### The average commission percentage for profitable orders is significantly higher than the overall average across all orders. It suggests that a higher commission rate on orders might be a key factor in achieving profitability. The average discount percentage for profitable orders is notably lower than the overall average, indicating that lower discounts might contribute to profitability without significantly deterring order volume."
   ]
  },
  {
   "cell_type": "markdown",
   "id": "2ad5c311-f892-4a21-ac64-5e283ee5addd",
   "metadata": {},
   "source": [
    "## Actual vs Simulated Profitability"
   ]
  },
  {
   "cell_type": "markdown",
   "id": "def2a484-027f-4bc5-b90e-a7c6c7e00b61",
   "metadata": {},
   "source": [
    "##### Calculate the Actual Profitability using actual discounts and commissions.\n",
    "##### Calculate the Simulated Profitabilty using New Average Commission (28%) and Average Discount (6%) percentage"
   ]
  },
  {
   "cell_type": "markdown",
   "id": "f9fcf2d4-74ad-4564-94b5-f3c2273dd0a0",
   "metadata": {},
   "source": [
    "##### It will help us to visualize the impact of New Average Commission and Discount Percentage on the profitablity per order against the actual profitabilty per order."
   ]
  },
  {
   "cell_type": "code",
   "execution_count": 13,
   "id": "069ae228-ae2a-4178-9842-106fe796a60f",
   "metadata": {},
   "outputs": [
    {
     "data": {
      "text/html": [
       "<div>\n",
       "<style scoped>\n",
       "    .dataframe tbody tr th:only-of-type {\n",
       "        vertical-align: middle;\n",
       "    }\n",
       "\n",
       "    .dataframe tbody tr th {\n",
       "        vertical-align: top;\n",
       "    }\n",
       "\n",
       "    .dataframe thead th {\n",
       "        text-align: right;\n",
       "    }\n",
       "</style>\n",
       "<table border=\"1\" class=\"dataframe\">\n",
       "  <thead>\n",
       "    <tr style=\"text-align: right;\">\n",
       "      <th></th>\n",
       "      <th>Order ID</th>\n",
       "      <th>Customer ID</th>\n",
       "      <th>Restaurant ID</th>\n",
       "      <th>Order Date and Time</th>\n",
       "      <th>Delivery Date and Time</th>\n",
       "      <th>Order Value</th>\n",
       "      <th>Delivery Fee</th>\n",
       "      <th>Payment Method</th>\n",
       "      <th>Discounts and Offers</th>\n",
       "      <th>Commission Fee</th>\n",
       "      <th>...</th>\n",
       "      <th>Refunds/Chargebacks</th>\n",
       "      <th>Discount Value</th>\n",
       "      <th>Discount Amount</th>\n",
       "      <th>Total Costs</th>\n",
       "      <th>Revenue</th>\n",
       "      <th>Profit</th>\n",
       "      <th>Simulated Commission Fee</th>\n",
       "      <th>Simulated Discount Amount</th>\n",
       "      <th>Simulated Total Costs</th>\n",
       "      <th>Simulated Profit</th>\n",
       "    </tr>\n",
       "  </thead>\n",
       "  <tbody>\n",
       "    <tr>\n",
       "      <th>0</th>\n",
       "      <td>1</td>\n",
       "      <td>C8270</td>\n",
       "      <td>R2924</td>\n",
       "      <td>01-02-2024 01:11</td>\n",
       "      <td>01-02-2024 02:39</td>\n",
       "      <td>1914</td>\n",
       "      <td>0</td>\n",
       "      <td>Credit Card</td>\n",
       "      <td>5% on App</td>\n",
       "      <td>150</td>\n",
       "      <td>...</td>\n",
       "      <td>0</td>\n",
       "      <td>0.05</td>\n",
       "      <td>95.70</td>\n",
       "      <td>142.70</td>\n",
       "      <td>150</td>\n",
       "      <td>7.30</td>\n",
       "      <td>535.92</td>\n",
       "      <td>114.84</td>\n",
       "      <td>161.84</td>\n",
       "      <td>374.08</td>\n",
       "    </tr>\n",
       "    <tr>\n",
       "      <th>1</th>\n",
       "      <td>2</td>\n",
       "      <td>C1860</td>\n",
       "      <td>R2054</td>\n",
       "      <td>02-02-2024 22:11</td>\n",
       "      <td>02-02-2024 22:46</td>\n",
       "      <td>986</td>\n",
       "      <td>40</td>\n",
       "      <td>Digital Wallet</td>\n",
       "      <td>10%</td>\n",
       "      <td>198</td>\n",
       "      <td>...</td>\n",
       "      <td>0</td>\n",
       "      <td>0.10</td>\n",
       "      <td>98.60</td>\n",
       "      <td>161.60</td>\n",
       "      <td>198</td>\n",
       "      <td>36.40</td>\n",
       "      <td>276.08</td>\n",
       "      <td>59.16</td>\n",
       "      <td>122.16</td>\n",
       "      <td>153.92</td>\n",
       "    </tr>\n",
       "    <tr>\n",
       "      <th>2</th>\n",
       "      <td>3</td>\n",
       "      <td>C6390</td>\n",
       "      <td>R2870</td>\n",
       "      <td>31-01-2024 05:54</td>\n",
       "      <td>31-01-2024 06:52</td>\n",
       "      <td>937</td>\n",
       "      <td>30</td>\n",
       "      <td>Cash on Delivery</td>\n",
       "      <td>15% New User</td>\n",
       "      <td>195</td>\n",
       "      <td>...</td>\n",
       "      <td>0</td>\n",
       "      <td>0.15</td>\n",
       "      <td>140.55</td>\n",
       "      <td>215.55</td>\n",
       "      <td>195</td>\n",
       "      <td>-20.55</td>\n",
       "      <td>262.36</td>\n",
       "      <td>56.22</td>\n",
       "      <td>131.22</td>\n",
       "      <td>131.14</td>\n",
       "    </tr>\n",
       "    <tr>\n",
       "      <th>3</th>\n",
       "      <td>4</td>\n",
       "      <td>C6191</td>\n",
       "      <td>R2642</td>\n",
       "      <td>16-01-2024 22:52</td>\n",
       "      <td>16-01-2024 23:38</td>\n",
       "      <td>1463</td>\n",
       "      <td>50</td>\n",
       "      <td>Cash on Delivery</td>\n",
       "      <td>Zero</td>\n",
       "      <td>146</td>\n",
       "      <td>...</td>\n",
       "      <td>0</td>\n",
       "      <td>0.00</td>\n",
       "      <td>0.00</td>\n",
       "      <td>77.00</td>\n",
       "      <td>146</td>\n",
       "      <td>69.00</td>\n",
       "      <td>409.64</td>\n",
       "      <td>87.78</td>\n",
       "      <td>164.78</td>\n",
       "      <td>244.86</td>\n",
       "    </tr>\n",
       "    <tr>\n",
       "      <th>4</th>\n",
       "      <td>5</td>\n",
       "      <td>C6734</td>\n",
       "      <td>R2799</td>\n",
       "      <td>29-01-2024 01:19</td>\n",
       "      <td>29-01-2024 02:48</td>\n",
       "      <td>1992</td>\n",
       "      <td>30</td>\n",
       "      <td>Cash on Delivery</td>\n",
       "      <td>50 off Promo</td>\n",
       "      <td>130</td>\n",
       "      <td>...</td>\n",
       "      <td>0</td>\n",
       "      <td>50.00</td>\n",
       "      <td>50.00</td>\n",
       "      <td>130.00</td>\n",
       "      <td>130</td>\n",
       "      <td>0.00</td>\n",
       "      <td>557.76</td>\n",
       "      <td>119.52</td>\n",
       "      <td>199.52</td>\n",
       "      <td>358.24</td>\n",
       "    </tr>\n",
       "  </tbody>\n",
       "</table>\n",
       "<p>5 rows × 21 columns</p>\n",
       "</div>"
      ],
      "text/plain": [
       "   Order ID Customer ID Restaurant ID Order Date and Time  \\\n",
       "0         1       C8270         R2924    01-02-2024 01:11   \n",
       "1         2       C1860         R2054    02-02-2024 22:11   \n",
       "2         3       C6390         R2870    31-01-2024 05:54   \n",
       "3         4       C6191         R2642    16-01-2024 22:52   \n",
       "4         5       C6734         R2799    29-01-2024 01:19   \n",
       "\n",
       "  Delivery Date and Time  Order Value  Delivery Fee    Payment Method  \\\n",
       "0       01-02-2024 02:39         1914             0       Credit Card   \n",
       "1       02-02-2024 22:46          986            40    Digital Wallet   \n",
       "2       31-01-2024 06:52          937            30  Cash on Delivery   \n",
       "3       16-01-2024 23:38         1463            50  Cash on Delivery   \n",
       "4       29-01-2024 02:48         1992            30  Cash on Delivery   \n",
       "\n",
       "  Discounts and Offers  Commission Fee  ...  Refunds/Chargebacks  \\\n",
       "0            5% on App             150  ...                    0   \n",
       "1                  10%             198  ...                    0   \n",
       "2         15% New User             195  ...                    0   \n",
       "3                 Zero             146  ...                    0   \n",
       "4         50 off Promo             130  ...                    0   \n",
       "\n",
       "   Discount Value  Discount Amount  Total Costs  Revenue  Profit  \\\n",
       "0            0.05            95.70       142.70      150    7.30   \n",
       "1            0.10            98.60       161.60      198   36.40   \n",
       "2            0.15           140.55       215.55      195  -20.55   \n",
       "3            0.00             0.00        77.00      146   69.00   \n",
       "4           50.00            50.00       130.00      130    0.00   \n",
       "\n",
       "   Simulated Commission Fee  Simulated Discount Amount  Simulated Total Costs  \\\n",
       "0                    535.92                     114.84                 161.84   \n",
       "1                    276.08                      59.16                 122.16   \n",
       "2                    262.36                      56.22                 131.22   \n",
       "3                    409.64                      87.78                 164.78   \n",
       "4                    557.76                     119.52                 199.52   \n",
       "\n",
       "   Simulated Profit  \n",
       "0            374.08  \n",
       "1            153.92  \n",
       "2            131.14  \n",
       "3            244.86  \n",
       "4            358.24  \n",
       "\n",
       "[5 rows x 21 columns]"
      ]
     },
     "execution_count": 13,
     "metadata": {},
     "output_type": "execute_result"
    }
   ],
   "source": [
    "# simulate profitability with recommended discounts and commissions\n",
    "recommended_commission_percentage = 28  # 28%\n",
    "recommended_discount_percentage = 6.0    # 6%\n",
    "\n",
    "# calculate the simulated commission fee and discount amount using recommended percentages\n",
    "food_orders[\"Simulated Commission Fee\"] = food_orders[\"Order Value\"] * (recommended_commission_percentage / 100)\n",
    "food_orders[\"Simulated Discount Amount\"] = food_orders[\"Order Value\"] * (recommended_discount_percentage / 100)\n",
    "\n",
    "# recalculate total costs and profit with simulated values\n",
    "food_orders[\"Simulated Total Costs\"] = (food_orders[\"Delivery Fee\"] +\n",
    "                                        food_orders[\"Payment Processing Fee\"] +\n",
    "                                        food_orders[\"Simulated Discount Amount\"])\n",
    "\n",
    "food_orders[\"Simulated Profit\"] = (food_orders[\"Simulated Commission Fee\"] -\n",
    "                                   food_orders[\"Simulated Total Costs\"])\n",
    "\n",
    "food_orders.head()"
   ]
  },
  {
   "cell_type": "code",
   "execution_count": 14,
   "id": "d6b969bf-7b0f-48b0-9156-22cf686625a8",
   "metadata": {},
   "outputs": [
    {
     "name": "stdout",
     "output_type": "stream",
     "text": [
      "{'Total Orders Simulated': 1000, 'Total Revenue Simulated': 295111.32000000007, 'Total Costs Simulated': 121690.14, 'Total Profit Simulated': 173421.18000000002}\n"
     ]
    }
   ],
   "source": [
    "# aggregate data to get overall metrics\n",
    "total_orders_simulated = food_orders.shape[0]\n",
    "total_revenue_simulated = food_orders[\"Simulated Commission Fee\"].sum()\n",
    "total_costs_simulated = food_orders[\"Simulated Total Costs\"].sum()\n",
    "total_profit_simulated = food_orders[\"Simulated Profit\"].sum()\n",
    "\n",
    "overall_metrics_simulated = {\n",
    "    \"Total Orders Simulated\": total_orders_simulated,\n",
    "    \"Total Revenue Simulated\": total_revenue_simulated,\n",
    "    \"Total Costs Simulated\": total_costs_simulated,\n",
    "    \"Total Profit Simulated\": total_profit_simulated\n",
    "}\n",
    "print(overall_metrics_simulated)"
   ]
  },
  {
   "cell_type": "code",
   "execution_count": 15,
   "id": "785961d0-7ad1-4fb3-a3ff-d7eb0c1e1199",
   "metadata": {},
   "outputs": [
    {
     "name": "stderr",
     "output_type": "stream",
     "text": [
      "C:\\Users\\Ayush\\anaconda3\\Lib\\site-packages\\seaborn\\_oldcore.py:1119: FutureWarning: use_inf_as_na option is deprecated and will be removed in a future version. Convert inf values to NaN before operating instead.\n",
      "  with pd.option_context('mode.use_inf_as_na', True):\n",
      "C:\\Users\\Ayush\\anaconda3\\Lib\\site-packages\\seaborn\\_oldcore.py:1119: FutureWarning: use_inf_as_na option is deprecated and will be removed in a future version. Convert inf values to NaN before operating instead.\n",
      "  with pd.option_context('mode.use_inf_as_na', True):\n"
     ]
    },
    {
     "data": {
      "image/png": "[encoded data removed]",
      "text/plain": [
       "<Figure size 1400x700 with 1 Axes>"
      ]
     },
     "metadata": {},
     "output_type": "display_data"
    }
   ],
   "source": [
    "plt.figure(figsize=(14, 7))\n",
    "\n",
    "# actual profitability\n",
    "sns.kdeplot(food_orders[\"Profit\"], label=\"Actual Profitability\", fill=True, alpha=0.5, linewidth=2)\n",
    "\n",
    "# simulated profitability\n",
    "sns.kdeplot(food_orders[\"Simulated Profit\"], label=\"Estimated Profitability with Recommended Rates\", fill=True, alpha=0.5, linewidth=2)\n",
    "\n",
    "plt.title(\"Comparison of Profitability: Actual vs. Recommended Discounts and Commissions\")\n",
    "plt.xlabel(\"Profit\")\n",
    "plt.ylabel(\"Density\")\n",
    "plt.legend(loc=\"upper left\")\n",
    "plt.show()"
   ]
  },
  {
   "cell_type": "markdown",
   "id": "a67ffa6c-b050-428c-a772-ee7b46396e64",
   "metadata": {},
   "source": [
    "##### This visualization compares the actual profitability per order versus the simulated profitability per order with recommended Commission (28%) and Discount (6%) percentage."
   ]
  },
  {
   "cell_type": "markdown",
   "id": "11a52dd3-2c15-4094-bd74-feb61f39f405",
   "metadata": {},
   "source": [
    "##### The current profitability distribution reveals a diverse range of outcomes, with many orders experiencing losses (profit < 0) and a wide variety of profit margins. In contrast, the simulated scenario demonstrates a notable shift towards increased profitability per order. This new distribution leans more towards positive profits, suggesting that the proposed adjustments may result in a higher percentage of profitable orders."
   ]
  },
  {
   "cell_type": "code",
   "execution_count": null,
   "id": "bc3acdeb-ee5f-4b98-a4c5-ee1c6795c2e8",
   "metadata": {},
   "outputs": [],
   "source": []
  }
 ],
 "metadata": {
  "kernelspec": {
   "display_name": "Python 3 (ipykernel)",
   "language": "python",
   "name": "python3"
  },
  "language_info": {
   "codemirror_mode": {
    "name": "ipython",
    "version": 3
   },
   "file_extension": ".py",
   "mimetype": "text/x-python",
   "name": "python",
   "nbconvert_exporter": "python",
   "pygments_lexer": "ipython3",
   "version": "3.11.7"
  }
 },
 "nbformat": 4,
 "nbformat_minor": 5
}
